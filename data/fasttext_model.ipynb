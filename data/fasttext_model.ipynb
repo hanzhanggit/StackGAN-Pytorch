{
 "cells": [
  {
   "cell_type": "code",
   "execution_count": 3,
   "metadata": {},
   "outputs": [
    {
     "name": "stderr",
     "output_type": "stream",
     "text": [
      "/home/soumen/anaconda3/lib/python3.8/site-packages/pandas/core/computation/expressions.py:20: UserWarning: Pandas requires version '2.7.3' or newer of 'numexpr' (version '2.7.1' currently installed).\n",
      "  from pandas.core.computation.check import NUMEXPR_INSTALLED\n"
     ]
    }
   ],
   "source": [
    "import sqlite3\n",
    "import pandas as pd"
   ]
  },
  {
   "cell_type": "code",
   "execution_count": 4,
   "metadata": {
    "scrolled": true
   },
   "outputs": [
    {
     "name": "stdout",
     "output_type": "stream",
     "text": [
      "total 11264\r\n",
      "drwxrwxrwx 1 soumen soumen    4096 May 23 12:40 .\r\n",
      "drwxrwxrwx 1 soumen soumen    4096 May 23 11:44 ..\r\n",
      "-rwxrwxrwx 1 soumen soumen      55 May  9 13:41 .gitignore\r\n",
      "drwxrwxrwx 1 soumen soumen    4096 May 23 11:56 .ipynb_checkpoints\r\n",
      "-rwxrwxrwx 1 soumen soumen     675 May 15 22:37 README.md\r\n",
      "-rwxrwxrwx 1 soumen soumen   49172 May 22 17:28 bulk_upload_soumen_2.csv\r\n",
      "-rwxrwxrwx 1 soumen soumen  114691 May 22 17:53 caption.csv\r\n",
      "-rwxrwxrwx 1 soumen soumen  108253 May 23 11:43 caption_analysis.ipynb\r\n",
      "-rwxrwxrwx 1 soumen soumen    7709 May 18 12:50 caption_soumen.csv\r\n",
      "-rwxrwxrwx 1 soumen soumen   12010 May 17 23:03 caption_soumen.xlsx\r\n",
      "-rwxrwxrwx 1 soumen soumen    7021 May 18 13:54 caption_soumen_clean.csv\r\n",
      "-rwxrwxrwx 1 soumen soumen    7111 May 22 17:57 copy_files.py\r\n",
      "-rwxrwxrwx 1 soumen soumen   20808 May 18 13:31 data_images_500.csv\r\n",
      "-rwxrwxrwx 1 soumen soumen   98942 May 17 16:18 data_images_all.csv\r\n",
      "-rwxrwxrwx 1 soumen soumen   41772 May 18 15:20 dataset_easy_lookup-backup.csv\r\n",
      "-rwxrwxrwx 1 soumen soumen 5553513 May 17 22:58 dataset_easy_lookup-backup.xlsx\r\n",
      "-rwxrwxrwx 1 soumen soumen 1341862 May 19 17:35 dataset_easy_lookup_500.xlsx\r\n",
      "-rwxrwxrwx 1 soumen soumen 1348000 May 18 15:24 dataset_easy_lookup_500_1.xlsx\r\n",
      "-rwxrwxrwx 1 soumen soumen   21294 May 19 12:03 dataset_easy_lookup_500_prepare.csv\r\n",
      "-rwxrwxrwx 1 soumen soumen 1343089 May 19 17:15 dataset_easy_lookup_500_prepare.xlsx\r\n",
      "-rwxrwxrwx 1 soumen soumen   84664 May 18 13:07 dataset_easy_lookup_filtered.csv\r\n",
      "-rwxrwxrwx 1 soumen soumen   91698 May 23 12:40 fasttext_model.ipynb\r\n",
      "-rwxrwxrwx 1 soumen soumen   15338 May 22 17:53 generate_custom_dataset.py\r\n",
      "-rwxrwxrwx 1 soumen soumen    6011 May 18 13:31 sixray_500_filenames.csv\r\n",
      "-rwxrwxrwx 1 soumen soumen   10275 May 18 13:31 sixray_500_ll.csv\r\n",
      "drwxrwxrwx 1 soumen soumen    4096 May 12 18:49 sixray_sample\r\n",
      "-rwxrwxrwx 1 soumen soumen  556206 May 15 15:04 sixray_sample.zip\r\n",
      "-rwxrwxrwx 1 soumen soumen   41609 May 23 12:32 temp_text_data.txt\r\n",
      "-rwxrwxrwx 1 soumen soumen  192512 May 22 09:50 tip_gai.db\r\n",
      "-rwxrwxrwx 1 soumen soumen  204800 May 22 23:12 tip_gai_20230522_2136.db\r\n",
      "-rwxrwxrwx 1 soumen soumen  204800 May 22 17:45 tip_gai_22052023_1743.db\r\n",
      "-rwxrwxrwx 1 soumen soumen      58 May 17 23:04 todo_anshul.txt\r\n"
     ]
    }
   ],
   "source": [
    "!ls -al"
   ]
  },
  {
   "cell_type": "code",
   "execution_count": 5,
   "metadata": {},
   "outputs": [],
   "source": [
    "# load the caption form sqlite\n",
    "dbpath = 'tip_gai_20230522_2136.db'\n",
    "conn = sqlite3.connect(dbpath)\n",
    "df = pd.read_sql_query(\"SELECT caption FROM caption\", conn)"
   ]
  },
  {
   "cell_type": "code",
   "execution_count": 6,
   "metadata": {},
   "outputs": [],
   "source": [
    "# pre-cleaning the captions\n",
    "df['caption'] = df['caption'].apply(lambda x: x.strip().strip(\".\").strip())"
   ]
  },
  {
   "cell_type": "code",
   "execution_count": 7,
   "metadata": {},
   "outputs": [],
   "source": [
    "import re\n",
    "def clean(text):\n",
    "    # remove punctuation, space, linefeed etc.\n",
    "    text = re.sub(r'[^\\w\\s\\']',' ', text)\n",
    "    text = re.sub(r'[ \\n]+', ' ', text)\n",
    "    return text.strip().lower()\n",
    "\n",
    "def create_fasttext_data(text):\n",
    "    with open(\"./temp_text_data.txt\", \"w\", encoding=\"utf-8\") as fp:\n",
    "        fp.write(clean(text))\n",
    "    return \"./temp_text_data.txt\""
   ]
  },
  {
   "cell_type": "code",
   "execution_count": 13,
   "metadata": {},
   "outputs": [
    {
     "data": {
      "text/plain": [
       "\"Two knives, one placed on top of other, in a bag pack hidden behind some wires and cluttered with other objects.A bag with knives.\\nTwo shrap knives in a backpack.Security discovered a concealed knife in the passenger's bag.Two knives are hidden inside a backpack.Two knives are hidden inside a backpack overlapping each other.A bag contains a sharp knife at the bottom with a few electronics items.Two knives are hidden inside a luggage scattered around.Two knives are hidden inside a luggage.A troll\""
      ]
     },
     "execution_count": 13,
     "metadata": {},
     "output_type": "execute_result"
    }
   ],
   "source": [
    "# create a blob of unique-cleaned captions\n",
    "caption_data = \".\".join(df.caption.unique())\n",
    "caption_data[:500]"
   ]
  },
  {
   "cell_type": "code",
   "execution_count": 15,
   "metadata": {},
   "outputs": [
    {
     "data": {
      "text/plain": [
       "'./temp_text_data.txt'"
      ]
     },
     "execution_count": 15,
     "metadata": {},
     "output_type": "execute_result"
    }
   ],
   "source": [
    "data_path = create_fasttext_data(caption_data)\n",
    "data_path"
   ]
  },
  {
   "cell_type": "code",
   "execution_count": 22,
   "metadata": {},
   "outputs": [
    {
     "name": "stdout",
     "output_type": "stream",
     "text": [
      "Done\n"
     ]
    }
   ],
   "source": [
    "# train custom vector model\n",
    "import fasttext\n",
    "from easydict import EasyDict as edict\n",
    "\n",
    "cfg = edict()\n",
    "cfg.dim=1024\n",
    "cfg.algorithm = \"skipgram\" # \"cbow\"\n",
    "cfg.epoch = 50\n",
    "cfg.lr = 0.01\n",
    "model = fasttext.train_unsupervised(data_path, cfg.algorithm, dim=cfg.dim, thread=4, epoch=cfg.epoch, lr=cfg.lr)\n",
    "print(\"Done\")"
   ]
  },
  {
   "cell_type": "code",
   "execution_count": 24,
   "metadata": {},
   "outputs": [
    {
     "ename": "AttributeError",
     "evalue": "'_FastText' object has no attribute 'save'",
     "output_type": "error",
     "traceback": [
      "\u001b[0;31m---------------------------------------------------------------------------\u001b[0m",
      "\u001b[0;31mAttributeError\u001b[0m                            Traceback (most recent call last)",
      "\u001b[0;32m<ipython-input-24-8c494f033e34>\u001b[0m in \u001b[0;36m<module>\u001b[0;34m\u001b[0m\n\u001b[0;32m----> 1\u001b[0;31m \u001b[0mmodel\u001b[0m\u001b[0;34m.\u001b[0m\u001b[0msave\u001b[0m\u001b[0;34m(\u001b[0m\u001b[0;34m\"fasttext_{}_{}.bin\"\u001b[0m\u001b[0;34m.\u001b[0m\u001b[0mformat\u001b[0m\u001b[0;34m(\u001b[0m\u001b[0mcfg\u001b[0m\u001b[0;34m.\u001b[0m\u001b[0malgorithm\u001b[0m\u001b[0;34m,\u001b[0m \u001b[0mcfg\u001b[0m\u001b[0;34m.\u001b[0m\u001b[0mdim\u001b[0m\u001b[0;34m)\u001b[0m\u001b[0;34m)\u001b[0m\u001b[0;34m\u001b[0m\u001b[0;34m\u001b[0m\u001b[0m\n\u001b[0m",
      "\u001b[0;31mAttributeError\u001b[0m: '_FastText' object has no attribute 'save'"
     ]
    }
   ],
   "source": [
    "model.save(\"fasttext_{}_{}.bin\".format(cfg.algorithm, cfg.dim))"
   ]
  },
  {
   "cell_type": "code",
   "execution_count": 23,
   "metadata": {},
   "outputs": [
    {
     "name": "stdout",
     "output_type": "stream",
     "text": [
      "{'dim': 1024, 'algorithm': 'skipgram', 'epoch': 50, 'lr': 0.01}\n"
     ]
    },
    {
     "data": {
      "text/plain": [
       "[(0.9999958872795105, 'knifes'),\n",
       " (0.9999924302101135, 'several'),\n",
       " (0.9999924302101135, 'laptop'),\n",
       " (0.9999923706054688, 'containing'),\n",
       " (0.9999921917915344, 'highly'),\n",
       " (0.9999920129776001, 'umbrella'),\n",
       " (0.9999918341636658, 'backpack'),\n",
       " (0.9999918341636658, 'toolbox'),\n",
       " (0.9999916553497314, 'consist'),\n",
       " (0.9999916553497314, 'consists')]"
      ]
     },
     "execution_count": 23,
     "metadata": {},
     "output_type": "execute_result"
    }
   ],
   "source": [
    "print(cfg)\n",
    "model.get_nearest_neighbors('knife')"
   ]
  },
  {
   "cell_type": "markdown",
   "metadata": {},
   "source": [
    "```\n",
    "{'dim': 300, 'algorithm': 'skipgram', 'epoch': 20, 'lr': 0.05}\n",
    "[(0.9996108412742615, 'kitchen'),\n",
    " (0.9994402527809143, 'two'),\n",
    " (0.9993472695350647, 'containing'),\n",
    " (0.9990079402923584, 'hidden'),\n",
    " (0.998786211013794, 'umbrella'),\n",
    " (0.9986904263496399, 'backpack'),\n",
    " (0.9983470439910889, 'including'),\n",
    " (0.9983364939689636, 'hand'),\n",
    " (0.9982928037643433, 'toolbox'),\n",
    " (0.9982638955116272, 'hiding')]\n",
    " ```"
   ]
  },
  {
   "cell_type": "code",
   "execution_count": 33,
   "metadata": {},
   "outputs": [
    {
     "name": "stderr",
     "output_type": "stream",
     "text": [
      "Warning : `load_model` does not return WordVectorModel or SupervisedModel any more, but a `FastText` object which is very similar.\n"
     ]
    },
    {
     "data": {
      "text/plain": [
       "[(0.8358478546142578, 'knive'),\n",
       " (0.812025249004364, 'knives'),\n",
       " (0.8031113147735596, 'knife.The'),\n",
       " (0.7948669791221619, 'knife.I'),\n",
       " (0.7896084189414978, 'knifes'),\n",
       " (0.7808818221092224, 'knife.'),\n",
       " (0.7503802180290222, 'knife-'),\n",
       " (0.738475501537323, 'kinfe'),\n",
       " (0.7219622135162354, 'pocketknife'),\n",
       " (0.7085967659950256, 'penknife')]"
      ]
     },
     "execution_count": 33,
     "metadata": {},
     "output_type": "execute_result"
    }
   ],
   "source": [
    "# pretrained model\n",
    "fasttext_model = \"/mnt/c/Users/dndlssardar/Downloads/Fasttext/cc.en.300.bin\"\n",
    "pre_model = fasttext.load_model(fasttext_model)\n",
    "pre_model.get_nearest_neighbors('knife')"
   ]
  },
  {
   "cell_type": "code",
   "execution_count": null,
   "metadata": {},
   "outputs": [],
   "source": []
  }
 ],
 "metadata": {
  "kernelspec": {
   "display_name": "base",
   "language": "python",
   "name": "base"
  },
  "language_info": {
   "codemirror_mode": {
    "name": "ipython",
    "version": 3
   },
   "file_extension": ".py",
   "mimetype": "text/x-python",
   "name": "python",
   "nbconvert_exporter": "python",
   "pygments_lexer": "ipython3",
   "version": "3.8.5"
  }
 },
 "nbformat": 4,
 "nbformat_minor": 5
}
